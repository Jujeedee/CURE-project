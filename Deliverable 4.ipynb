{
 "cells": [
  {
   "cell_type": "code",
   "execution_count": 66,
   "id": "d4e2464b",
   "metadata": {},
   "outputs": [],
   "source": [
    "import numpy as np\n",
    "import pandas as pd\n",
    "from pandas import Series,DataFrame"
   ]
  },
  {
   "cell_type": "code",
   "execution_count": 67,
   "id": "31dca2df",
   "metadata": {},
   "outputs": [
    {
     "data": {
      "text/html": [
       "<div>\n",
       "<style scoped>\n",
       "    .dataframe tbody tr th:only-of-type {\n",
       "        vertical-align: middle;\n",
       "    }\n",
       "\n",
       "    .dataframe tbody tr th {\n",
       "        vertical-align: top;\n",
       "    }\n",
       "\n",
       "    .dataframe thead th {\n",
       "        text-align: right;\n",
       "    }\n",
       "</style>\n",
       "<table border=\"1\" class=\"dataframe\">\n",
       "  <thead>\n",
       "    <tr style=\"text-align: right;\">\n",
       "      <th></th>\n",
       "      <th>base price</th>\n",
       "      <th>horsepower</th>\n",
       "      <th>0-60mph</th>\n",
       "      <th>top speed</th>\n",
       "      <th>model</th>\n",
       "    </tr>\n",
       "  </thead>\n",
       "  <tbody>\n",
       "    <tr>\n",
       "      <th>0</th>\n",
       "      <td>56500</td>\n",
       "      <td>385</td>\n",
       "      <td>4.5</td>\n",
       "      <td>155</td>\n",
       "      <td>0</td>\n",
       "    </tr>\n",
       "    <tr>\n",
       "      <th>1</th>\n",
       "      <td>86600</td>\n",
       "      <td>469</td>\n",
       "      <td>3.9</td>\n",
       "      <td>155</td>\n",
       "      <td>0</td>\n",
       "    </tr>\n",
       "    <tr>\n",
       "      <th>2</th>\n",
       "      <td>75700</td>\n",
       "      <td>503</td>\n",
       "      <td>3.8</td>\n",
       "      <td>155</td>\n",
       "      <td>0</td>\n",
       "    </tr>\n",
       "    <tr>\n",
       "      <th>3</th>\n",
       "      <td>75000</td>\n",
       "      <td>429</td>\n",
       "      <td>4.4</td>\n",
       "      <td>135</td>\n",
       "      <td>0</td>\n",
       "    </tr>\n",
       "    <tr>\n",
       "      <th>4</th>\n",
       "      <td>109550</td>\n",
       "      <td>603</td>\n",
       "      <td>3.3</td>\n",
       "      <td>186</td>\n",
       "      <td>0</td>\n",
       "    </tr>\n",
       "    <tr>\n",
       "      <th>...</th>\n",
       "      <td>...</td>\n",
       "      <td>...</td>\n",
       "      <td>...</td>\n",
       "      <td>...</td>\n",
       "      <td>...</td>\n",
       "    </tr>\n",
       "    <tr>\n",
       "      <th>117</th>\n",
       "      <td>86250</td>\n",
       "      <td>523</td>\n",
       "      <td>4.1</td>\n",
       "      <td>130</td>\n",
       "      <td>2</td>\n",
       "    </tr>\n",
       "    <tr>\n",
       "      <th>118</th>\n",
       "      <td>109600</td>\n",
       "      <td>617</td>\n",
       "      <td>3.3</td>\n",
       "      <td>155</td>\n",
       "      <td>2</td>\n",
       "    </tr>\n",
       "    <tr>\n",
       "      <th>119</th>\n",
       "      <td>74900</td>\n",
       "      <td>375</td>\n",
       "      <td>5.6</td>\n",
       "      <td>130</td>\n",
       "      <td>2</td>\n",
       "    </tr>\n",
       "    <tr>\n",
       "      <th>120</th>\n",
       "      <td>99800</td>\n",
       "      <td>523</td>\n",
       "      <td>4.1</td>\n",
       "      <td>130</td>\n",
       "      <td>2</td>\n",
       "    </tr>\n",
       "    <tr>\n",
       "      <th>121</th>\n",
       "      <td>141300</td>\n",
       "      <td>631</td>\n",
       "      <td>3.9</td>\n",
       "      <td>180</td>\n",
       "      <td>2</td>\n",
       "    </tr>\n",
       "  </tbody>\n",
       "</table>\n",
       "<p>122 rows × 5 columns</p>\n",
       "</div>"
      ],
      "text/plain": [
       "     base price  horsepower  0-60mph  top speed  model\n",
       "0         56500         385      4.5        155      0\n",
       "1         86600         469      3.9        155      0\n",
       "2         75700         503      3.8        155      0\n",
       "3         75000         429      4.4        135      0\n",
       "4        109550         603      3.3        186      0\n",
       "..          ...         ...      ...        ...    ...\n",
       "117       86250         523      4.1        130      2\n",
       "118      109600         617      3.3        155      2\n",
       "119       74900         375      5.6        130      2\n",
       "120       99800         523      4.1        130      2\n",
       "121      141300         631      3.9        180      2\n",
       "\n",
       "[122 rows x 5 columns]"
      ]
     },
     "execution_count": 67,
     "metadata": {},
     "output_type": "execute_result"
    }
   ],
   "source": [
    "df = pd.read_excel('luxarycars_from_pandas.xlsx', usecols=[1,2,3,4,5])\n",
    "df"
   ]
  },
  {
   "cell_type": "code",
   "execution_count": 68,
   "id": "533fbdbd",
   "metadata": {},
   "outputs": [
    {
     "data": {
      "text/plain": [
       "0      0\n",
       "1      0\n",
       "2      0\n",
       "3      0\n",
       "4      0\n",
       "      ..\n",
       "117    2\n",
       "118    2\n",
       "119    2\n",
       "120    2\n",
       "121    2\n",
       "Name: model, Length: 122, dtype: int64"
      ]
     },
     "execution_count": 68,
     "metadata": {},
     "output_type": "execute_result"
    }
   ],
   "source": [
    "dfX = df.drop(columns=['model'])\n",
    "dfX\n",
    "sy= df.model\n",
    "sy"
   ]
  },
  {
   "cell_type": "code",
   "execution_count": 69,
   "id": "617d9be2",
   "metadata": {},
   "outputs": [],
   "source": [
    "from sklearn.model_selection import train_test_split\n",
    "dfX_train, dfX_test, sy_train, sy_test = train_test_split(dfX,sy)\n"
   ]
  },
  {
   "cell_type": "code",
   "execution_count": 70,
   "id": "7aa30840",
   "metadata": {},
   "outputs": [],
   "source": [
    "from sklearn import preprocessing\n",
    "le = preprocessing.LabelEncoder()\n",
    "le = le.fit(sy_train)\n",
    "y_train = le.transform(sy_train)\n",
    "#sy_train, y_train"
   ]
  },
  {
   "cell_type": "code",
   "execution_count": 71,
   "id": "e95131ba",
   "metadata": {},
   "outputs": [],
   "source": [
    "dfX_train.to_numpy()\n",
    "nl = preprocessing.MinMaxScaler()\n",
    "nl = nl.fit(dfX_train.to_numpy())\n",
    "X_train = nl.transform(dfX_train.to_numpy())\n",
    "#X_train"
   ]
  },
  {
   "cell_type": "code",
   "execution_count": 72,
   "id": "cacdb372",
   "metadata": {},
   "outputs": [
    {
     "data": {
      "text/plain": [
       "KNeighborsClassifier(n_neighbors=1)"
      ]
     },
     "execution_count": 72,
     "metadata": {},
     "output_type": "execute_result"
    }
   ],
   "source": [
    "from sklearn.neighbors import KNeighborsClassifier\n",
    "knn = KNeighborsClassifier(n_neighbors=1)\n",
    "knn = knn.fit(X_train, y_train)\n",
    "knn"
   ]
  },
  {
   "cell_type": "code",
   "execution_count": 73,
   "id": "e889cc33",
   "metadata": {},
   "outputs": [],
   "source": [
    "X_test = nl.transform(dfX_test.to_numpy())\n",
    "#dfX_test, X_test"
   ]
  },
  {
   "cell_type": "code",
   "execution_count": 74,
   "id": "5508ce53",
   "metadata": {},
   "outputs": [],
   "source": [
    "y_test = le.transform(sy_test.to_numpy())\n",
    "#sy_test, y_test\n"
   ]
  },
  {
   "cell_type": "code",
   "execution_count": 75,
   "id": "29b585ed",
   "metadata": {},
   "outputs": [
    {
     "data": {
      "text/plain": [
       "array([1, 1, 0, 0, 1, 0, 1, 1, 0, 1, 0, 0, 0, 1, 1, 0, 1, 2, 1, 1, 1, 1,\n",
       "       2, 2, 1, 1, 0, 0, 1, 1, 1], dtype=int64)"
      ]
     },
     "execution_count": 75,
     "metadata": {},
     "output_type": "execute_result"
    }
   ],
   "source": [
    "knn.predict(X_test)\n"
   ]
  },
  {
   "cell_type": "code",
   "execution_count": 76,
   "id": "619e3a79",
   "metadata": {},
   "outputs": [
    {
     "data": {
      "text/plain": [
       "array([1, 1, 1, 1, 1, 0, 2, 1, 2, 1, 0, 0, 1, 1, 2, 0, 1, 2, 1, 1, 1, 1,\n",
       "       2, 2, 1, 1, 0, 0, 1, 1, 1], dtype=int64)"
      ]
     },
     "execution_count": 76,
     "metadata": {},
     "output_type": "execute_result"
    }
   ],
   "source": [
    "y_test"
   ]
  },
  {
   "cell_type": "code",
   "execution_count": 77,
   "id": "43fd17c9",
   "metadata": {},
   "outputs": [
    {
     "data": {
      "text/plain": [
       "0.8064516129032258"
      ]
     },
     "execution_count": 77,
     "metadata": {},
     "output_type": "execute_result"
    }
   ],
   "source": [
    "knn.score(X_test,y_test)"
   ]
  },
  {
   "cell_type": "code",
   "execution_count": 78,
   "id": "98f45d1d",
   "metadata": {},
   "outputs": [
    {
     "data": {
      "text/plain": [
       "1.0"
      ]
     },
     "execution_count": 78,
     "metadata": {},
     "output_type": "execute_result"
    }
   ],
   "source": [
    "knn.score(X_train,y_train)"
   ]
  },
  {
   "cell_type": "code",
   "execution_count": 79,
   "id": "45a11825",
   "metadata": {},
   "outputs": [],
   "source": [
    "#for i in range(6):\n",
    "  #  knn = KNeighborsClassifier(n_neighbors = i)\n",
    "   # knn = knn.fit(X_train, y_train)\n",
    "   # score_train = knn.score(X_train,y_train)\n",
    "  #  score_test = knn.score(X_test,y_train)\n",
    "   # i += 1\n",
    "#return score_train, score_test\n",
    "    "
   ]
  },
  {
   "cell_type": "code",
   "execution_count": 80,
   "id": "9ac446d7",
   "metadata": {},
   "outputs": [
    {
     "name": "stdout",
     "output_type": "stream",
     "text": [
      "0.8064516129032258\n",
      "1.0\n"
     ]
    }
   ],
   "source": [
    "knn_1 = KNeighborsClassifier(n_neighbors=1)\n",
    "knn_1 = knn_1.fit(X_train,y_train)\n",
    "\n",
    "#print(knn_1.predict(X_test))\n",
    "print(knn_1.score(X_test, y_test))\n",
    "print(knn_1.score(X_train, y_train))"
   ]
  },
  {
   "cell_type": "code",
   "execution_count": 81,
   "id": "52aeadde",
   "metadata": {},
   "outputs": [
    {
     "name": "stdout",
     "output_type": "stream",
     "text": [
      "0.7419354838709677\n",
      "0.8901098901098901\n"
     ]
    }
   ],
   "source": [
    "knn_2 = KNeighborsClassifier(n_neighbors=2)\n",
    "knn_2 = knn_2.fit(X_train,y_train)\n",
    "\n",
    "#print(knn_2.predict(X_test))\n",
    "print(knn_2.score(X_test, y_test))\n",
    "print(knn_2.score(X_train, y_train))"
   ]
  },
  {
   "cell_type": "code",
   "execution_count": 82,
   "id": "9e9e5d49",
   "metadata": {},
   "outputs": [
    {
     "name": "stdout",
     "output_type": "stream",
     "text": [
      "0.7419354838709677\n",
      "0.8351648351648352\n"
     ]
    }
   ],
   "source": [
    "knn_3 = KNeighborsClassifier(n_neighbors=3)\n",
    "knn_3 = knn_3.fit(X_train,y_train)\n",
    "\n",
    "#print(knn_3.predict(X_test))\n",
    "print(knn_3.score(X_test, y_test))\n",
    "print(knn_3.score(X_train, y_train))"
   ]
  },
  {
   "cell_type": "code",
   "execution_count": 83,
   "id": "ed1331d0",
   "metadata": {},
   "outputs": [
    {
     "name": "stdout",
     "output_type": "stream",
     "text": [
      "0.7419354838709677\n",
      "0.7912087912087912\n"
     ]
    }
   ],
   "source": [
    "knn_4 = KNeighborsClassifier(n_neighbors=4)\n",
    "knn_4 = knn_4.fit(X_train,y_train)\n",
    "\n",
    "#print(knn_4.predict(X_test))\n",
    "print(knn_4.score(X_test, y_test))\n",
    "print(knn_4.score(X_train, y_train))"
   ]
  },
  {
   "cell_type": "code",
   "execution_count": 84,
   "id": "a7b2ba0e",
   "metadata": {},
   "outputs": [
    {
     "name": "stdout",
     "output_type": "stream",
     "text": [
      "0.7096774193548387\n",
      "0.7142857142857143\n"
     ]
    }
   ],
   "source": [
    "knn_5 = KNeighborsClassifier(n_neighbors=5)\n",
    "knn_5 = knn_5.fit(X_train,y_train)\n",
    "\n",
    "#print(knn_1.predict(X_test))\n",
    "print(knn_5.score(X_test, y_test))\n",
    "print(knn_5.score(X_train, y_train))"
   ]
  },
  {
   "cell_type": "code",
   "execution_count": 85,
   "id": "b1d4b2c0",
   "metadata": {},
   "outputs": [
    {
     "name": "stdout",
     "output_type": "stream",
     "text": [
      "0.7741935483870968\n",
      "0.7252747252747253\n"
     ]
    }
   ],
   "source": [
    "knn_6 = KNeighborsClassifier(n_neighbors=6)\n",
    "knn_6 = knn_6.fit(X_train,y_train)\n",
    "\n",
    "#print(knn_6predict(X_test))\n",
    "print(knn_6.score(X_test,y_test))\n",
    "print(knn_6.score(X_train, y_train))"
   ]
  },
  {
   "cell_type": "code",
   "execution_count": 95,
   "id": "db5d07e4",
   "metadata": {},
   "outputs": [
    {
     "name": "stdout",
     "output_type": "stream",
     "text": [
      "0.6451612903225806\n",
      "0.6483516483516484\n"
     ]
    }
   ],
   "source": [
    "knn_7 = KNeighborsClassifier(n_neighbors=7)\n",
    "knn_7 = knn_7.fit(X_train,y_train)\n",
    "\n",
    "#print(knn_7.predict(X_test))\n",
    "print(knn_7.score(X_test,y_test))\n",
    "print(knn_7.score(X_train, y_train))"
   ]
  },
  {
   "cell_type": "code",
   "execution_count": 97,
   "id": "6f7b0699",
   "metadata": {},
   "outputs": [
    {
     "name": "stdout",
     "output_type": "stream",
     "text": [
      "0.6129032258064516\n",
      "0.6923076923076923\n"
     ]
    }
   ],
   "source": [
    "knn_8 = KNeighborsClassifier(n_neighbors=8)\n",
    "knn_8 = knn_8.fit(X_train,y_train)\n",
    "\n",
    "#print(knn_8.predict(X_test))\n",
    "print(knn_8.score(X_test,y_test))\n",
    "print(knn_8.score(X_train, y_train))"
   ]
  },
  {
   "cell_type": "code",
   "execution_count": 98,
   "id": "ef6dd1f0",
   "metadata": {},
   "outputs": [
    {
     "name": "stdout",
     "output_type": "stream",
     "text": [
      "0.6129032258064516\n",
      "0.6923076923076923\n"
     ]
    }
   ],
   "source": [
    "knn_9 = KNeighborsClassifier(n_neighbors=9)\n",
    "knn_9 = knn_9.fit(X_train,y_train)\n",
    "\n",
    "#print(knn_9.predict(X_test))\n",
    "print(knn_9.score(X_test,y_test))\n",
    "print(knn_9.score(X_train, y_train))"
   ]
  },
  {
   "cell_type": "code",
   "execution_count": 99,
   "id": "21100290",
   "metadata": {},
   "outputs": [
    {
     "name": "stdout",
     "output_type": "stream",
     "text": [
      "0.6451612903225806\n",
      "0.6483516483516484\n"
     ]
    }
   ],
   "source": [
    "knn_10 = KNeighborsClassifier(n_neighbors=10)\n",
    "knn_10 = knn_10.fit(X_train,y_train)\n",
    "\n",
    "#print(knn_10.predict(X_test))\n",
    "print(knn_10.score(X_test,y_test))\n",
    "print(knn_10.score(X_train, y_train))"
   ]
  },
  {
   "cell_type": "code",
   "execution_count": 105,
   "id": "2eaa882c",
   "metadata": {
    "scrolled": true
   },
   "outputs": [
    {
     "data": {
      "image/png": "[encoded data removed]",
      "text/plain": [
       "<Figure size 432x288 with 1 Axes>"
      ]
     },
     "metadata": {
      "needs_background": "light"
     },
     "output_type": "display_data"
    }
   ],
   "source": [
    "import matplotlib.pyplot as plt\n",
    "X = [1,2,3,4,5,6,7,8,9,10]\n",
    "Y_test = [knn_1.score(X_test,y_test), knn_2.score(X_test,y_test), knn_3.score(X_test,y_test), knn_4.score(X_test,y_test), knn_5.score(X_test,y_test), knn_6.score(X_test,y_test), knn_7.score(X_test, y_test), knn_8.score(X_test,y_test), knn_9.score(X_test,y_test), knn_10.score(X_test,y_test) ]\n",
    "Y_train = [knn_1.score(X_train, y_train), knn_2.score(X_train, y_train), knn_3.score(X_train, y_train), knn_4.score(X_train, y_train), knn_5.score(X_train, y_train), knn_6.score(X_train, y_train), knn_7.score(X_train, y_train), knn_8.score(X_train, y_train), knn_9.score(X_train, y_train), knn_10.score(X_train, y_train)]\n",
    "\n",
    "plt.plot(X, Y_train, color = 'blue', label = 'Train Score')\n",
    "plt.plot(X, Y_test, color = 'red', label = 'Test Score')\n",
    "plt.xticks([1,2,3,4,5,6,7,8,9,10])\n",
    "plt.ylabel('Model Accuracy')\n",
    "plt.xlabel('K-Values')\n",
    "plt.legend()\n",
    "plt.show()"
   ]
  },
  {
   "cell_type": "code",
   "execution_count": null,
   "id": "75f5add9",
   "metadata": {},
   "outputs": [],
   "source": []
  }
 ],
 "metadata": {
  "kernelspec": {
   "display_name": "Python 3 (ipykernel)",
   "language": "python",
   "name": "python3"
  },
  "language_info": {
   "codemirror_mode": {
    "name": "ipython",
    "version": 3
   },
   "file_extension": ".py",
   "mimetype": "text/x-python",
   "name": "python",
   "nbconvert_exporter": "python",
   "pygments_lexer": "ipython3",
   "version": "3.9.12"
  }
 },
 "nbformat": 4,
 "nbformat_minor": 5
}
